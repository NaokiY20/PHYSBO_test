{
 "cells": [
  {
   "attachments": {},
   "cell_type": "markdown",
   "metadata": {},
   "source": [
    "既存の計算結果を読み込んで実行する。（https://issp-center-dev.github.io/PHYSBO/manual/master/ja/notebook/tutorial_once_mode.html）"
   ]
  },
  {
   "cell_type": "code",
   "execution_count": 1,
   "metadata": {},
   "outputs": [],
   "source": [
    "import physbo\n",
    "import numpy as np\n",
    "import random\n",
    "import pandas as pd\n",
    "import matplotlib.pyplot as plt"
   ]
  },
  {
   "cell_type": "code",
   "execution_count": 2,
   "metadata": {},
   "outputs": [],
   "source": [
    "def load_data():\n",
    "    A = np.asarray(np.loadtxt(\"data/s5-210.csv\", skiprows=1, delimiter=\",\"))\n",
    "    X = A[:, 0:3]\n",
    "    y = -A[:,3]\n",
    "    return X, y\n",
    "\n",
    "X, y = load_data()\n",
    "X = physbo.misc.centering(X)"
   ]
  },
  {
   "cell_type": "code",
   "execution_count": 3,
   "metadata": {},
   "outputs": [
    {
     "data": {
      "text/plain": [
       "[<matplotlib.lines.Line2D at 0xffff646e6340>]"
      ]
     },
     "execution_count": 3,
     "metadata": {},
     "output_type": "execute_result"
    },
    {
     "data": {
      "image/png": "[encoded data removed]",
      "text/plain": [
       "<Figure size 640x480 with 1 Axes>"
      ]
     },
     "metadata": {},
     "output_type": "display_data"
    }
   ],
   "source": [
    "plt.plot(y,\".\")"
   ]
  },
  {
   "cell_type": "code",
   "execution_count": 4,
   "metadata": {},
   "outputs": [
    {
     "name": "stdout",
     "output_type": "stream",
     "text": [
      "[12623, 13781, 1326, 8484, 16753, 15922, 13268, 9938, 15617, 11732, 7157, 16537, 4563, 9235, 4579, 3107, 8208, 17451, 4815, 10162]\n"
     ]
    }
   ],
   "source": [
    "# ランダムサーチを行う。\n",
    "\n",
    "random.seed(0)\n",
    "calculated_ids = random.sample(range(y.size), 20)\n",
    "print(calculated_ids)\n",
    "t_initial = y[calculated_ids]"
   ]
  },
  {
   "cell_type": "code",
   "execution_count": 5,
   "metadata": {},
   "outputs": [],
   "source": [
    "# policyのセット\n",
    "policy = physbo.search.discrete.policy(test_X=X, initial_data=[calculated_ids, t_initial])\n",
    "\n",
    "# シード値のセット\n",
    "policy.set_seed(0)"
   ]
  },
  {
   "cell_type": "code",
   "execution_count": 6,
   "metadata": {},
   "outputs": [],
   "source": [
    "class simulator:\n",
    "    def __call__(self, action):\n",
    "        return y[action]"
   ]
  },
  {
   "cell_type": "code",
   "execution_count": 7,
   "metadata": {},
   "outputs": [
    {
     "name": "stdout",
     "output_type": "stream",
     "text": [
      "Start the initial hyper parameter searching ...\n",
      "Done\n",
      "\n",
      "Start the hyper parameter learning ...\n",
      "0 -th epoch marginal likelihood -20.09302189053097\n",
      "50 -th epoch marginal likelihood -23.11964735598209\n",
      "100 -th epoch marginal likelihood -24.83020118385076\n",
      "150 -th epoch marginal likelihood -25.817906570042602\n",
      "200 -th epoch marginal likelihood -26.42342027124426\n",
      "250 -th epoch marginal likelihood -26.822598600211865\n",
      "300 -th epoch marginal likelihood -27.10872736571494\n",
      "350 -th epoch marginal likelihood -27.33157259912686\n",
      "400 -th epoch marginal likelihood -27.517235815448124\n",
      "450 -th epoch marginal likelihood -27.678923335538688\n",
      "500 -th epoch marginal likelihood -27.822994698270588\n",
      "Done\n",
      "\n",
      "0021-th step: f(x) = -1.004361 (action=73)\n",
      "   current best f(x) = -0.964946 (best action=7157) \n",
      "\n",
      "0022-th step: f(x) = -0.966219 (action=5587)\n",
      "   current best f(x) = -0.964946 (best action=7157) \n",
      "\n",
      "0023-th step: f(x) = -1.152277 (action=2764)\n",
      "   current best f(x) = -0.964946 (best action=7157) \n",
      "\n",
      "0024-th step: f(x) = -0.961340 (action=7900)\n",
      "   current best f(x) = -0.961340 (best action=7900) \n",
      "\n",
      "0025-th step: f(x) = -1.070149 (action=382)\n",
      "   current best f(x) = -0.961340 (best action=7900) \n",
      "\n",
      "0026-th step: f(x) = -1.108237 (action=15719)\n",
      "   current best f(x) = -0.961340 (best action=7900) \n",
      "\n",
      "0027-th step: f(x) = -1.118295 (action=17701)\n",
      "   current best f(x) = -0.961340 (best action=7900) \n",
      "\n",
      "0028-th step: f(x) = -0.987133 (action=10676)\n",
      "   current best f(x) = -0.961340 (best action=7900) \n",
      "\n",
      "0029-th step: f(x) = -1.025883 (action=3286)\n",
      "   current best f(x) = -0.961340 (best action=7900) \n",
      "\n",
      "0030-th step: f(x) = -1.005654 (action=2960)\n",
      "   current best f(x) = -0.961340 (best action=7900) \n",
      "\n",
      "Start the initial hyper parameter searching ...\n",
      "Done\n",
      "\n",
      "Start the hyper parameter learning ...\n",
      "0 -th epoch marginal likelihood -5.999041843559347\n",
      "50 -th epoch marginal likelihood -17.28557848314854\n",
      "100 -th epoch marginal likelihood -24.750894777951885\n",
      "150 -th epoch marginal likelihood -29.63237527562676\n",
      "200 -th epoch marginal likelihood -32.868574588226224\n",
      "250 -th epoch marginal likelihood -35.055452343522454\n",
      "300 -th epoch marginal likelihood -36.569406788757206\n",
      "350 -th epoch marginal likelihood -37.64887691420045\n",
      "400 -th epoch marginal likelihood -38.445844614859915\n",
      "450 -th epoch marginal likelihood -39.057868652943014\n",
      "500 -th epoch marginal likelihood -39.5479273052293\n",
      "Done\n",
      "\n",
      "0031-th step: f(x) = -0.998148 (action=10993)\n",
      "   current best f(x) = -0.961340 (best action=7900) \n",
      "\n",
      "0032-th step: f(x) = -1.046417 (action=16465)\n",
      "   current best f(x) = -0.961340 (best action=7900) \n",
      "\n",
      "0033-th step: f(x) = -1.005694 (action=2996)\n",
      "   current best f(x) = -0.961340 (best action=7900) \n",
      "\n",
      "0034-th step: f(x) = -0.969080 (action=8843)\n",
      "   current best f(x) = -0.961340 (best action=7900) \n",
      "\n",
      "0035-th step: f(x) = -0.996815 (action=8990)\n",
      "   current best f(x) = -0.961340 (best action=7900) \n",
      "\n",
      "0036-th step: f(x) = -1.248187 (action=12005)\n",
      "   current best f(x) = -0.961340 (best action=7900) \n",
      "\n",
      "0037-th step: f(x) = -1.046623 (action=17094)\n",
      "   current best f(x) = -0.961340 (best action=7900) \n",
      "\n",
      "0038-th step: f(x) = -1.062206 (action=14952)\n",
      "   current best f(x) = -0.961340 (best action=7900) \n",
      "\n",
      "0039-th step: f(x) = -1.086262 (action=10218)\n",
      "   current best f(x) = -0.961340 (best action=7900) \n",
      "\n",
      "0040-th step: f(x) = -0.990432 (action=222)\n",
      "   current best f(x) = -0.961340 (best action=7900) \n",
      "\n",
      "Start the initial hyper parameter searching ...\n",
      "Done\n",
      "\n",
      "Start the hyper parameter learning ...\n",
      "0 -th epoch marginal likelihood 14.78603759586214\n",
      "50 -th epoch marginal likelihood -4.507539044768123\n",
      "100 -th epoch marginal likelihood -17.94468799414919\n",
      "150 -th epoch marginal likelihood -27.221183396806964\n",
      "200 -th epoch marginal likelihood -33.671599852608\n",
      "250 -th epoch marginal likelihood -38.19242211448544\n",
      "300 -th epoch marginal likelihood -41.391372962281736\n",
      "350 -th epoch marginal likelihood -43.68256293946354\n",
      "400 -th epoch marginal likelihood -45.34870101447411\n",
      "450 -th epoch marginal likelihood -46.58311643364412\n",
      "500 -th epoch marginal likelihood -47.51838262389862\n",
      "Done\n",
      "\n",
      "0041-th step: f(x) = -1.114334 (action=16846)\n",
      "   current best f(x) = -0.961340 (best action=7900) \n",
      "\n",
      "0042-th step: f(x) = -1.104083 (action=8982)\n",
      "   current best f(x) = -0.961340 (best action=7900) \n",
      "\n",
      "0043-th step: f(x) = -1.072351 (action=14981)\n",
      "   current best f(x) = -0.961340 (best action=7900) \n",
      "\n",
      "0044-th step: f(x) = -0.977525 (action=7638)\n",
      "   current best f(x) = -0.961340 (best action=7900) \n",
      "\n",
      "0045-th step: f(x) = -0.992858 (action=10729)\n",
      "   current best f(x) = -0.961340 (best action=7900) \n",
      "\n",
      "0046-th step: f(x) = -1.091613 (action=5966)\n",
      "   current best f(x) = -0.961340 (best action=7900) \n",
      "\n",
      "0047-th step: f(x) = -1.031994 (action=9027)\n",
      "   current best f(x) = -0.961340 (best action=7900) \n",
      "\n",
      "0048-th step: f(x) = -1.272414 (action=6018)\n",
      "   current best f(x) = -0.961340 (best action=7900) \n",
      "\n",
      "0049-th step: f(x) = -1.514165 (action=12017)\n",
      "   current best f(x) = -0.961340 (best action=7900) \n",
      "\n",
      "0050-th step: f(x) = -1.015296 (action=6585)\n",
      "   current best f(x) = -0.961340 (best action=7900) \n",
      "\n",
      "Start the initial hyper parameter searching ...\n",
      "Done\n",
      "\n",
      "Start the hyper parameter learning ...\n",
      "0 -th epoch marginal likelihood 139.24397380401976\n",
      "50 -th epoch marginal likelihood 93.44517577873421\n",
      "100 -th epoch marginal likelihood 60.65118209208609\n",
      "150 -th epoch marginal likelihood 37.01347542114354\n",
      "200 -th epoch marginal likelihood 19.663060884629814\n",
      "250 -th epoch marginal likelihood 6.715172032587574\n",
      "300 -th epoch marginal likelihood -3.080847154533245\n",
      "350 -th epoch marginal likelihood -10.573550802308105\n",
      "400 -th epoch marginal likelihood -16.35449958922566\n",
      "450 -th epoch marginal likelihood -20.847434074337606\n",
      "500 -th epoch marginal likelihood -24.362980155799207\n",
      "Done\n",
      "\n",
      "0051-th step: f(x) = -1.002477 (action=9413)\n",
      "   current best f(x) = -0.961340 (best action=7900) \n",
      "\n",
      "0052-th step: f(x) = -0.997339 (action=1887)\n",
      "   current best f(x) = -0.961340 (best action=7900) \n",
      "\n",
      "0053-th step: f(x) = -1.130372 (action=17971)\n",
      "   current best f(x) = -0.961340 (best action=7900) \n",
      "\n",
      "0054-th step: f(x) = -0.991812 (action=1036)\n",
      "   current best f(x) = -0.961340 (best action=7900) \n",
      "\n",
      "0055-th step: f(x) = -1.000745 (action=5438)\n",
      "   current best f(x) = -0.961340 (best action=7900) \n",
      "\n",
      "0056-th step: f(x) = -0.995336 (action=739)\n",
      "   current best f(x) = -0.961340 (best action=7900) \n",
      "\n",
      "0057-th step: f(x) = -1.033007 (action=3743)\n",
      "   current best f(x) = -0.961340 (best action=7900) \n",
      "\n",
      "0058-th step: f(x) = -0.986466 (action=11230)\n",
      "   current best f(x) = -0.961340 (best action=7900) \n",
      "\n",
      "0059-th step: f(x) = -0.999982 (action=11322)\n",
      "   current best f(x) = -0.961340 (best action=7900) \n",
      "\n",
      "0060-th step: f(x) = -1.056914 (action=16057)\n",
      "   current best f(x) = -0.961340 (best action=7900) \n",
      "\n",
      "Start the initial hyper parameter searching ...\n",
      "Done\n",
      "\n",
      "Start the hyper parameter learning ...\n",
      "0 -th epoch marginal likelihood 166.44737176754538\n",
      "50 -th epoch marginal likelihood 112.01959406754398\n",
      "100 -th epoch marginal likelihood 72.2434867250033\n",
      "150 -th epoch marginal likelihood 42.773584438602995\n",
      "200 -th epoch marginal likelihood 20.652011504339924\n",
      "250 -th epoch marginal likelihood 3.87527753760412\n",
      "300 -th epoch marginal likelihood -8.926235380347364\n",
      "350 -th epoch marginal likelihood -18.718904872766615\n",
      "400 -th epoch marginal likelihood -26.213795420102457\n",
      "450 -th epoch marginal likelihood -31.95250226111591\n",
      "500 -th epoch marginal likelihood -36.354416457708496\n",
      "Done\n",
      "\n",
      "0061-th step: f(x) = -0.992269 (action=8398)\n",
      "   current best f(x) = -0.961340 (best action=7900) \n",
      "\n",
      "0062-th step: f(x) = -1.000478 (action=14133)\n",
      "   current best f(x) = -0.961340 (best action=7900) \n",
      "\n",
      "0063-th step: f(x) = -1.062401 (action=13205)\n",
      "   current best f(x) = -0.961340 (best action=7900) \n",
      "\n",
      "0064-th step: f(x) = -1.008143 (action=6030)\n",
      "   current best f(x) = -0.961340 (best action=7900) \n",
      "\n",
      "0065-th step: f(x) = -0.974020 (action=4365)\n",
      "   current best f(x) = -0.961340 (best action=7900) \n",
      "\n",
      "0066-th step: f(x) = -0.990445 (action=2071)\n",
      "   current best f(x) = -0.961340 (best action=7900) \n",
      "\n",
      "0067-th step: f(x) = -2.972638 (action=2997)\n",
      "   current best f(x) = -0.961340 (best action=7900) \n",
      "\n",
      "0068-th step: f(x) = -1.039133 (action=633)\n",
      "   current best f(x) = -0.961340 (best action=7900) \n",
      "\n",
      "0069-th step: f(x) = -0.980283 (action=3790)\n",
      "   current best f(x) = -0.961340 (best action=7900) \n",
      "\n",
      "0070-th step: f(x) = -1.101283 (action=4042)\n",
      "   current best f(x) = -0.961340 (best action=7900) \n",
      "\n",
      "Start the initial hyper parameter searching ...\n",
      "Done\n",
      "\n",
      "Start the hyper parameter learning ...\n",
      "0 -th epoch marginal likelihood 168.91947576391775\n",
      "50 -th epoch marginal likelihood 126.30698933205028\n",
      "100 -th epoch marginal likelihood 95.0524397257571\n",
      "150 -th epoch marginal likelihood 73.14547503150723\n",
      "200 -th epoch marginal likelihood 58.67567013275749\n",
      "250 -th epoch marginal likelihood 47.73066060304605\n",
      "300 -th epoch marginal likelihood 38.38140395109576\n",
      "350 -th epoch marginal likelihood 31.358879286960033\n",
      "400 -th epoch marginal likelihood 26.115677882607045\n",
      "450 -th epoch marginal likelihood 22.299283556852473\n",
      "500 -th epoch marginal likelihood 19.238216457878522\n",
      "Done\n",
      "\n"
     ]
    },
    {
     "ename": "KeyboardInterrupt",
     "evalue": "",
     "output_type": "error",
     "traceback": [
      "\u001b[0;31m---------------------------------------------------------------------------\u001b[0m",
      "\u001b[0;31mKeyboardInterrupt\u001b[0m                         Traceback (most recent call last)",
      "\u001b[1;32m/workspace/PHYSBO/physbo2.ipynb セル 8\u001b[0m in \u001b[0;36m1\n\u001b[0;32m----> <a href='vscode-notebook-cell://attached-container%2B7b22636f6e7461696e65724e616d65223a222f50485953424f227d/workspace/PHYSBO/physbo2.ipynb#X10sdnNjb2RlLXJlbW90ZQ%3D%3D?line=0'>1</a>\u001b[0m res \u001b[39m=\u001b[39m policy\u001b[39m.\u001b[39;49mbayes_search(max_num_probes\u001b[39m=\u001b[39;49m\u001b[39m100\u001b[39;49m, simulator\u001b[39m=\u001b[39;49msimulator(), score\u001b[39m=\u001b[39;49m\u001b[39m\"\u001b[39;49m\u001b[39mTS\u001b[39;49m\u001b[39m\"\u001b[39;49m, interval\u001b[39m=\u001b[39;49m\u001b[39m10\u001b[39;49m,  num_rand_basis \u001b[39m=\u001b[39;49m \u001b[39m5000\u001b[39;49m)\n",
      "File \u001b[0;32m/usr/local/lib/python3.8/dist-packages/physbo/search/discrete/policy.py:287\u001b[0m, in \u001b[0;36mpolicy.bayes_search\u001b[0;34m(self, training, max_num_probes, num_search_each_probe, predictor, is_disp, simulator, score, interval, num_rand_basis)\u001b[0m\n\u001b[1;32m    285\u001b[0m time_update_predictor \u001b[39m=\u001b[39m time\u001b[39m.\u001b[39mtime()\n\u001b[1;32m    286\u001b[0m \u001b[39mif\u001b[39;00m utility\u001b[39m.\u001b[39mis_learning(n, interval):\n\u001b[0;32m--> 287\u001b[0m     \u001b[39mself\u001b[39;49m\u001b[39m.\u001b[39;49m_learn_hyperparameter(num_rand_basis)\n\u001b[1;32m    288\u001b[0m \u001b[39melse\u001b[39;00m:\n\u001b[1;32m    289\u001b[0m     \u001b[39mself\u001b[39m\u001b[39m.\u001b[39m_update_predictor()\n",
      "File \u001b[0;32m/usr/local/lib/python3.8/dist-packages/physbo/search/discrete/policy.py:737\u001b[0m, in \u001b[0;36mpolicy._learn_hyperparameter\u001b[0;34m(self, num_rand_basis)\u001b[0m\n\u001b[1;32m    735\u001b[0m \u001b[39mself\u001b[39m\u001b[39m.\u001b[39mtest\u001b[39m.\u001b[39mZ \u001b[39m=\u001b[39m \u001b[39mself\u001b[39m\u001b[39m.\u001b[39mpredictor\u001b[39m.\u001b[39mget_basis(\u001b[39mself\u001b[39m\u001b[39m.\u001b[39mtest\u001b[39m.\u001b[39mX)\n\u001b[1;32m    736\u001b[0m \u001b[39mself\u001b[39m\u001b[39m.\u001b[39mtraining\u001b[39m.\u001b[39mZ \u001b[39m=\u001b[39m \u001b[39mself\u001b[39m\u001b[39m.\u001b[39mpredictor\u001b[39m.\u001b[39mget_basis(\u001b[39mself\u001b[39m\u001b[39m.\u001b[39mtraining\u001b[39m.\u001b[39mX)\n\u001b[0;32m--> 737\u001b[0m \u001b[39mself\u001b[39;49m\u001b[39m.\u001b[39;49mpredictor\u001b[39m.\u001b[39;49mprepare(\u001b[39mself\u001b[39;49m\u001b[39m.\u001b[39;49mtraining)\n\u001b[1;32m    738\u001b[0m \u001b[39mself\u001b[39m\u001b[39m.\u001b[39mnew_data \u001b[39m=\u001b[39m \u001b[39mNone\u001b[39;00m\n",
      "File \u001b[0;32m/usr/local/lib/python3.8/dist-packages/physbo/blm/predictor.py:59\u001b[0m, in \u001b[0;36mpredictor.prepare\u001b[0;34m(self, training)\u001b[0m\n\u001b[1;32m     50\u001b[0m \u001b[39mdef\u001b[39;00m \u001b[39mprepare\u001b[39m(\u001b[39mself\u001b[39m, training):\n\u001b[1;32m     51\u001b[0m     \u001b[39m\"\"\"\u001b[39;00m\n\u001b[1;32m     52\u001b[0m \u001b[39m    initializes model by using training data set\u001b[39;00m\n\u001b[1;32m     53\u001b[0m \n\u001b[0;32m   (...)\u001b[0m\n\u001b[1;32m     57\u001b[0m \u001b[39m        dataset for training\u001b[39;00m\n\u001b[1;32m     58\u001b[0m \u001b[39m    \"\"\"\u001b[39;00m\n\u001b[0;32m---> 59\u001b[0m     \u001b[39mself\u001b[39;49m\u001b[39m.\u001b[39;49mblm\u001b[39m.\u001b[39;49mprepare(training\u001b[39m.\u001b[39;49mX, training\u001b[39m.\u001b[39;49mt, training\u001b[39m.\u001b[39;49mZ)\n",
      "File \u001b[0;32m/usr/local/lib/python3.8/dist-packages/physbo/blm/core/model.py:49\u001b[0m, in \u001b[0;36mmodel.prepare\u001b[0;34m(self, X, t, Psi)\u001b[0m\n\u001b[1;32m     32\u001b[0m \u001b[39m\"\"\"\u001b[39;00m\n\u001b[1;32m     33\u001b[0m \u001b[39minitializes model by using the first training dataset\u001b[39;00m\n\u001b[1;32m     34\u001b[0m \n\u001b[0;32m   (...)\u001b[0m\n\u001b[1;32m     46\u001b[0m \u001b[39mphysbo.blm.inf.exact.prepare\u001b[39;00m\n\u001b[1;32m     47\u001b[0m \u001b[39m\"\"\"\u001b[39;00m\n\u001b[1;32m     48\u001b[0m \u001b[39mif\u001b[39;00m \u001b[39mself\u001b[39m\u001b[39m.\u001b[39mmethod \u001b[39m==\u001b[39m \u001b[39m\"\u001b[39m\u001b[39mexact\u001b[39m\u001b[39m\"\u001b[39m:\n\u001b[0;32m---> 49\u001b[0m     inf\u001b[39m.\u001b[39;49mexact\u001b[39m.\u001b[39;49mprepare(blm\u001b[39m=\u001b[39;49m\u001b[39mself\u001b[39;49m, X\u001b[39m=\u001b[39;49mX, t\u001b[39m=\u001b[39;49mt, Psi\u001b[39m=\u001b[39;49mPsi)\n\u001b[1;32m     50\u001b[0m \u001b[39melse\u001b[39;00m:\n\u001b[1;32m     51\u001b[0m     \u001b[39mpass\u001b[39;00m\n",
      "File \u001b[0;32m/usr/local/lib/python3.8/dist-packages/physbo/blm/inf/exact.py:28\u001b[0m, in \u001b[0;36mprepare\u001b[0;34m(blm, X, t, Psi)\u001b[0m\n\u001b[1;32m     26\u001b[0m PsiT \u001b[39m=\u001b[39m Psi\u001b[39m.\u001b[39mtranspose()\n\u001b[1;32m     27\u001b[0m G \u001b[39m=\u001b[39m np\u001b[39m.\u001b[39mdot(PsiT, Psi) \u001b[39m*\u001b[39m blm\u001b[39m.\u001b[39mlik\u001b[39m.\u001b[39mcov\u001b[39m.\u001b[39mprec\n\u001b[0;32m---> 28\u001b[0m A \u001b[39m=\u001b[39m G \u001b[39m+\u001b[39;49m blm\u001b[39m.\u001b[39;49mprior\u001b[39m.\u001b[39;49mget_prec()\n\u001b[1;32m     29\u001b[0m U \u001b[39m=\u001b[39m scipy\u001b[39m.\u001b[39mlinalg\u001b[39m.\u001b[39mcholesky(A, check_finite\u001b[39m=\u001b[39m\u001b[39mFalse\u001b[39;00m)\n\u001b[1;32m     30\u001b[0m b \u001b[39m=\u001b[39m PsiT\u001b[39m.\u001b[39mdot(t \u001b[39m-\u001b[39m blm\u001b[39m.\u001b[39mlik\u001b[39m.\u001b[39mlinear\u001b[39m.\u001b[39mbias)\n",
      "\u001b[0;31mKeyboardInterrupt\u001b[0m: "
     ]
    }
   ],
   "source": [
    "res = policy.bayes_search(max_num_probes=100, simulator=simulator(), score=\"TS\", interval=10,  num_rand_basis = 5000)"
   ]
  },
  {
   "cell_type": "code",
   "execution_count": null,
   "metadata": {},
   "outputs": [],
   "source": [
    "import matplotlib.pyplot as plt"
   ]
  },
  {
   "cell_type": "code",
   "execution_count": null,
   "metadata": {},
   "outputs": [
    {
     "data": {
      "text/plain": [
       "[<matplotlib.lines.Line2D at 0xffff4db9abe0>]"
      ]
     },
     "execution_count": 70,
     "metadata": {},
     "output_type": "execute_result"
    },
    {
     "data": {
      "image/png": "[encoded data removed]",
      "text/plain": [
       "<Figure size 640x480 with 1 Axes>"
      ]
     },
     "metadata": {},
     "output_type": "display_data"
    }
   ],
   "source": [
    "# 探索点\n",
    "plt.plot(res.fx[0:res.total_num_search],\".\")"
   ]
  },
  {
   "cell_type": "code",
   "execution_count": null,
   "metadata": {},
   "outputs": [
    {
     "data": {
      "text/plain": [
       "[<matplotlib.lines.Line2D at 0xffff4db209a0>]"
      ]
     },
     "execution_count": 71,
     "metadata": {},
     "output_type": "execute_result"
    },
    {
     "data": {
      "image/png": "[encoded data removed]",
      "text/plain": [
       "<Figure size 640x480 with 1 Axes>"
      ]
     },
     "metadata": {},
     "output_type": "display_data"
    }
   ],
   "source": [
    "# 探索中の最大値\n",
    "best_fx, best_action = res.export_all_sequence_best_fx()\n",
    "plt.plot(best_fx)\n",
    "print(best_fx[-1])"
   ]
  },
  {
   "cell_type": "code",
   "execution_count": null,
   "metadata": {},
   "outputs": [],
   "source": []
  }
 ],
 "metadata": {
  "kernelspec": {
   "display_name": "Python 3",
   "language": "python",
   "name": "python3"
  },
  "language_info": {
   "codemirror_mode": {
    "name": "ipython",
    "version": 3
   },
   "file_extension": ".py",
   "mimetype": "text/x-python",
   "name": "python",
   "nbconvert_exporter": "python",
   "pygments_lexer": "ipython3",
   "version": "3.8.10"
  },
  "orig_nbformat": 4
 },
 "nbformat": 4,
 "nbformat_minor": 2
}
